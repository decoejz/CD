{
 "cells": [
  {
   "cell_type": "markdown",
   "metadata": {},
   "source": [
    "# Ciência dos Dados - Projeto 2\n",
    "\n",
    "##### André Ejz, Elisa Malzoni, Leonardo Andrade e Michel Becker\n",
    "____"
   ]
  },
  {
   "cell_type": "markdown",
   "metadata": {},
   "source": [
    "## Teste A/B\n",
    "\n",
    "#### Sobre o projeto:\n",
    "Neste projeto o grupo realizará um teste A/B, comparando duas versões diferentes de um mesmo portifólio de projetos criado na matéria Co-design de Aplicativos. \n",
    "A tarefa que cada usuário deverá desempenhar é encontrar e entrar na página do projeto \"Estação Meteorológica\", em qualquer umas das versões do site à qual ele for redirecionado.\n",
    "As duas versões do site têm exatamente o mesmo design e variam apenas na localização do projeto o qual os usuários deverão encontrar."
   ]
  },
  {
   "cell_type": "markdown",
   "metadata": {},
   "source": [
    "#### Descrição da técnica inferencial adotada:\n",
    "\n",
    "Para o teste A/B serão recolhidas duas amostras diferentes do tempo gasto pelos usuários para encontrar o projeto \"Estação Meteorológica\". Uma amostra corresponderá à versão A do site e a outra à versão B. Como deseja-se avaliar a diferença entre as performances das duas versões, ou seja, a diferença no tempo médio para se realizar a tarefa em cada versão, criamos duas hipóteses: ou as médias delas são iguais ou elas são diferentes. \n",
    "\n",
    "Como estamos trabalhando simultaneamente com duas diferentes amostras, obteremos duas distribuições normais para as médias amostrais, que terão que ser combinadas de forma linear. Após calcularmos as médias estimadas para cada amostra obtida, deveremos realizar um teste de hipótese que nos permita rejeitar ou não a hipótese nula criada. \n",
    "\n",
    "Entretanto, as esperanças do tempo das versões A e B são ambas desconhecidas, bem como suas variâncias, o que dificulta a análise. Uma descrição mais detalhada das etapas realizadas para a análise inferencial será fornecida a seguir.\n",
    "____"
   ]
  },
  {
   "cell_type": "markdown",
   "metadata": {},
   "source": [
    "## Etapas da análise inferencial:\n"
   ]
  },
  {
   "cell_type": "markdown",
   "metadata": {},
   "source": [
    "#### Primeira etapa - construção das hipóteses:\n",
    "\n",
    "Com o teste A/B obteremos duas amostras correspondentes às duas diferentes versões do site. A análise que deseja-se fazer é a seguinte: de que forma a alteração da localização do projeto \"Estação Meteorológica\" altera o tempo médio gasto pelos usuários para encontrá-lo. A partir disso, podemos construir as seguintes hipóteses: se não houver alteração, temos que $H_0: E(A) - E(B) = 0$, enquanto que se houver alteração, $H_1: E(A) - E(B) \\neq 0$. \n",
    "\n",
    "Com as hipóteses já formuladas, o próximo passo será construir a distribuição amostral que combine linearmente as distribuições amostrais de A e de B. Dessa forma, teremos a distribuição que nos permitirá realizar o teste de hipótese para rejeitar ou não $H_0$."
   ]
  },
  {
   "cell_type": "markdown",
   "metadata": {},
   "source": [
    "#### Segunda etapa - construção da distribuição amostral:\n",
    "\n",
    "Tanto $X_A$ quanto $X_B$ são variáveis aleatórias que seguem uma distribuição normal, cujas médias e variâncias são desconhecidas. Como deveremos trabalhar simultaneamente com as duas distribuições elas deverão ser combinadas linearmente. Assim, tomando $H_0$ como base, temos que $X_A - X_B$ ~ $N(E,Var)$.\n",
    "\n",
    "Utilizando as propriedades de Esperança e Variância podemos calcular $E$ e $Var$ de $X_A - X_B$:\n",
    "\n",
    "* $E = E(X_A - X_B) = E(X_A) - E(X_B)$\n",
    "\n",
    "\n",
    "* $Var = Var(X_A - X_B) = Var(X_A) + Var(X_B)$, já que $X_A$ e $X_B$ são variáveis aleatórias independentes.\n",
    "\n",
    "Tomando novamente $H_0$ como base, percebe-se que $E = 0$ e $X_A - X_B$ ~ $N(0,Var)$. Como as variâncias de A e B continuam sendo desconhecidas elas deverão ser estimadas, o que nos levará a uma distribuição t no lugar de uma distribuição normal para a padronização de $X_A - X_B$."
   ]
  },
  {
   "cell_type": "markdown",
   "metadata": {},
   "source": [
    "#### Terceira etapa - estimando a variância e obtendo a distribuição t:\n",
    "\n",
    "Teoricamente, o valor de $Var$, a variância da distribuição amostral $X_A - X_B$, é definido por:\n",
    "* $\\frac{\\sigma_A^2}{nA} + \\frac{\\sigma_B^2}{nB} $\n",
    "\n",
    "Entretanto, os valores de $\\sigma_A$ e $\\sigma_B$ são desconhecidos, o que nos obriga a estimá-los. Dessa forma, obtemos, a partir de nossos dados amostrais A e B, as variâncias estimadas $S_A$ e $S_B$. Como ambas as estimativas carregam um erro consigo, torna-se incoerente utilizar uma Normal para a padronização da distribuição $X_A - X_B$ e, portanto recorre-se a uma distribuição t."
   ]
  },
  {
   "cell_type": "markdown",
   "metadata": {},
   "source": [
    "#### Quarta etapa - definindo a Região Crítica:\n",
    "\n",
    "Após a construção da distribuição t de $X_A - X_B$, uma região crítica será definida para que possamos avaliar a validade de $H_0$. Adotando-se um alfa igual a 5% o intervalo correspondente a essa região é calculado e comparado ao valor observado de $X_A - X_B$ obtido a partir dos dados amostrais de A e B. Em seguida, rejeita-se ou não $H_0$, com 95% de confiabilidade."
   ]
  },
  {
   "cell_type": "markdown",
   "metadata": {},
   "source": [
    "#### Quinta Etapa -  calculando o valor-p:\n",
    "\n",
    "Para finalizar a análise, calculamos o valor-p de $X_A - X_B$ e definimos para quais valores de $\\alpha$ que $H_0$ será rejeitada."
   ]
  },
  {
   "cell_type": "markdown",
   "metadata": {
    "collapsed": true
   },
   "source": [
    "____\n",
    "## Analisando os Dados"
   ]
  },
  {
   "cell_type": "code",
   "execution_count": 1,
   "metadata": {
    "collapsed": true
   },
   "outputs": [],
   "source": [
    "import pandas as pd\n",
    "import json\n",
    "import itertools\n",
    "import math\n",
    "import matplotlib.pyplot as plt\n",
    "%matplotlib inline"
   ]
  },
  {
   "cell_type": "markdown",
   "metadata": {},
   "source": [
    "______\n",
    "### Leitura do arquivo"
   ]
  },
  {
   "cell_type": "code",
   "execution_count": 6,
   "metadata": {
    "collapsed": true
   },
   "outputs": [],
   "source": [
    "arquivo = open(\"projeto2cd2016-export.json\")\n",
    "linhas = arquivo.readlines()\n",
    "texto = \"\".join(linhas)\n",
    "dados_fire = json.loads(texto)"
   ]
  },
  {
   "cell_type": "markdown",
   "metadata": {},
   "source": [
    "______\n",
    "### Analise do atributo log"
   ]
  },
  {
   "cell_type": "code",
   "execution_count": 7,
   "metadata": {
    "collapsed": false
   },
   "outputs": [],
   "source": [
    "for k,v in dados_fire[\"projeto2cd2016\"].items():\n",
    "    # print(k,v) # habilite para imprimir as chaves de mais alto nível\n",
    "    for chave, valor in v.items():\n",
    "        # print(chave, valor) # habilite para imprimir as chaves inferiores\n",
    "        pass # desabilite quando reabilitar a linha de cima"
   ]
  },
  {
   "cell_type": "markdown",
   "metadata": {},
   "source": [
    "_____\n",
    "### Transformando em Dataframe"
   ]
  },
  {
   "cell_type": "code",
   "execution_count": 8,
   "metadata": {
    "collapsed": true
   },
   "outputs": [],
   "source": [
    "lista_dicionarios = []\n",
    "\n",
    "for k,v in dados_fire[\"projeto2cd2016\"].items():\n",
    "    lista_dicionarios.append(v)"
   ]
  },
  {
   "cell_type": "code",
   "execution_count": 9,
   "metadata": {
    "collapsed": true
   },
   "outputs": [],
   "source": [
    "dataframe = pd.DataFrame.from_records(lista_dicionarios)"
   ]
  },
  {
   "cell_type": "code",
   "execution_count": 10,
   "metadata": {
    "collapsed": false,
    "scrolled": true
   },
   "outputs": [
    {
     "data": {
      "text/html": [
       "<div>\n",
       "<table border=\"1\" class=\"dataframe\">\n",
       "  <thead>\n",
       "    <tr style=\"text-align: right;\">\n",
       "      <th></th>\n",
       "      <th>tempo</th>\n",
       "      <th>tipo</th>\n",
       "      <th>user_id</th>\n",
       "      <th>versao</th>\n",
       "    </tr>\n",
       "  </thead>\n",
       "  <tbody>\n",
       "    <tr>\n",
       "      <th>0</th>\n",
       "      <td>1478301645142</td>\n",
       "      <td>fim</td>\n",
       "      <td>2483393273</td>\n",
       "      <td>B</td>\n",
       "    </tr>\n",
       "    <tr>\n",
       "      <th>1</th>\n",
       "      <td>1478283515071</td>\n",
       "      <td>fim</td>\n",
       "      <td>1730929345</td>\n",
       "      <td>B</td>\n",
       "    </tr>\n",
       "    <tr>\n",
       "      <th>2</th>\n",
       "      <td>1478386219376</td>\n",
       "      <td>fim</td>\n",
       "      <td>931274072</td>\n",
       "      <td>A</td>\n",
       "    </tr>\n",
       "    <tr>\n",
       "      <th>3</th>\n",
       "      <td>1478281853728</td>\n",
       "      <td>inicio</td>\n",
       "      <td>3962126498</td>\n",
       "      <td>A</td>\n",
       "    </tr>\n",
       "    <tr>\n",
       "      <th>4</th>\n",
       "      <td>1478285516839</td>\n",
       "      <td>inicio</td>\n",
       "      <td>1104517675</td>\n",
       "      <td>A</td>\n",
       "    </tr>\n",
       "    <tr>\n",
       "      <th>5</th>\n",
       "      <td>1478287966534</td>\n",
       "      <td>fim</td>\n",
       "      <td>288121755</td>\n",
       "      <td>A</td>\n",
       "    </tr>\n",
       "    <tr>\n",
       "      <th>6</th>\n",
       "      <td>1478300528716</td>\n",
       "      <td>inicio</td>\n",
       "      <td>3282556591</td>\n",
       "      <td>A</td>\n",
       "    </tr>\n",
       "    <tr>\n",
       "      <th>7</th>\n",
       "      <td>1478295636601</td>\n",
       "      <td>inicio</td>\n",
       "      <td>959534589</td>\n",
       "      <td>A</td>\n",
       "    </tr>\n",
       "    <tr>\n",
       "      <th>8</th>\n",
       "      <td>1478281985073</td>\n",
       "      <td>inicio</td>\n",
       "      <td>158843299</td>\n",
       "      <td>A</td>\n",
       "    </tr>\n",
       "    <tr>\n",
       "      <th>9</th>\n",
       "      <td>1478386041645</td>\n",
       "      <td>inicio</td>\n",
       "      <td>931274072</td>\n",
       "      <td>A</td>\n",
       "    </tr>\n",
       "    <tr>\n",
       "      <th>10</th>\n",
       "      <td>1479310421012</td>\n",
       "      <td>inicio</td>\n",
       "      <td>1337083730</td>\n",
       "      <td>A</td>\n",
       "    </tr>\n",
       "    <tr>\n",
       "      <th>11</th>\n",
       "      <td>1478310571989</td>\n",
       "      <td>fim</td>\n",
       "      <td>1355150594</td>\n",
       "      <td>B</td>\n",
       "    </tr>\n",
       "    <tr>\n",
       "      <th>12</th>\n",
       "      <td>1478315231797</td>\n",
       "      <td>inicio</td>\n",
       "      <td>1840703098</td>\n",
       "      <td>A</td>\n",
       "    </tr>\n",
       "    <tr>\n",
       "      <th>13</th>\n",
       "      <td>1478282185374</td>\n",
       "      <td>inicio</td>\n",
       "      <td>2859745144</td>\n",
       "      <td>A</td>\n",
       "    </tr>\n",
       "    <tr>\n",
       "      <th>14</th>\n",
       "      <td>1478284051498</td>\n",
       "      <td>inicio</td>\n",
       "      <td>700480404</td>\n",
       "      <td>A</td>\n",
       "    </tr>\n",
       "    <tr>\n",
       "      <th>15</th>\n",
       "      <td>1478283427528</td>\n",
       "      <td>inicio</td>\n",
       "      <td>1730929345</td>\n",
       "      <td>B</td>\n",
       "    </tr>\n",
       "    <tr>\n",
       "      <th>16</th>\n",
       "      <td>1478281462169</td>\n",
       "      <td>fim</td>\n",
       "      <td>1515373904</td>\n",
       "      <td>B</td>\n",
       "    </tr>\n",
       "    <tr>\n",
       "      <th>17</th>\n",
       "      <td>1478279361445</td>\n",
       "      <td>inicio</td>\n",
       "      <td>4145648883</td>\n",
       "      <td>B</td>\n",
       "    </tr>\n",
       "    <tr>\n",
       "      <th>18</th>\n",
       "      <td>1478281917125</td>\n",
       "      <td>inicio</td>\n",
       "      <td>4241974752</td>\n",
       "      <td>A</td>\n",
       "    </tr>\n",
       "    <tr>\n",
       "      <th>19</th>\n",
       "      <td>1478430889945</td>\n",
       "      <td>fim</td>\n",
       "      <td>4187339032</td>\n",
       "      <td>B</td>\n",
       "    </tr>\n",
       "    <tr>\n",
       "      <th>20</th>\n",
       "      <td>1478290573258</td>\n",
       "      <td>inicio</td>\n",
       "      <td>718487099</td>\n",
       "      <td>B</td>\n",
       "    </tr>\n",
       "    <tr>\n",
       "      <th>21</th>\n",
       "      <td>1478390289392</td>\n",
       "      <td>inicio</td>\n",
       "      <td>4018346557</td>\n",
       "      <td>A</td>\n",
       "    </tr>\n",
       "    <tr>\n",
       "      <th>22</th>\n",
       "      <td>1478360632870</td>\n",
       "      <td>inicio</td>\n",
       "      <td>3453487744</td>\n",
       "      <td>A</td>\n",
       "    </tr>\n",
       "    <tr>\n",
       "      <th>23</th>\n",
       "      <td>1478386142267</td>\n",
       "      <td>inicio</td>\n",
       "      <td>2307386754</td>\n",
       "      <td>A</td>\n",
       "    </tr>\n",
       "    <tr>\n",
       "      <th>24</th>\n",
       "      <td>1478291873296</td>\n",
       "      <td>inicio</td>\n",
       "      <td>1630891939</td>\n",
       "      <td>A</td>\n",
       "    </tr>\n",
       "    <tr>\n",
       "      <th>25</th>\n",
       "      <td>1478336200408</td>\n",
       "      <td>inicio</td>\n",
       "      <td>612473897</td>\n",
       "      <td>A</td>\n",
       "    </tr>\n",
       "    <tr>\n",
       "      <th>26</th>\n",
       "      <td>1478281524485</td>\n",
       "      <td>inicio</td>\n",
       "      <td>2424138001</td>\n",
       "      <td>A</td>\n",
       "    </tr>\n",
       "    <tr>\n",
       "      <th>27</th>\n",
       "      <td>1478283461592</td>\n",
       "      <td>inicio</td>\n",
       "      <td>3220108444</td>\n",
       "      <td>B</td>\n",
       "    </tr>\n",
       "    <tr>\n",
       "      <th>28</th>\n",
       "      <td>1478386262326</td>\n",
       "      <td>fim</td>\n",
       "      <td>931274072</td>\n",
       "      <td>A</td>\n",
       "    </tr>\n",
       "    <tr>\n",
       "      <th>29</th>\n",
       "      <td>1479312086800</td>\n",
       "      <td>fim</td>\n",
       "      <td>883863683</td>\n",
       "      <td>A</td>\n",
       "    </tr>\n",
       "    <tr>\n",
       "      <th>...</th>\n",
       "      <td>...</td>\n",
       "      <td>...</td>\n",
       "      <td>...</td>\n",
       "      <td>...</td>\n",
       "    </tr>\n",
       "    <tr>\n",
       "      <th>255</th>\n",
       "      <td>1478301922092</td>\n",
       "      <td>inicio</td>\n",
       "      <td>2483393273</td>\n",
       "      <td>B</td>\n",
       "    </tr>\n",
       "    <tr>\n",
       "      <th>256</th>\n",
       "      <td>1478290629960</td>\n",
       "      <td>fim</td>\n",
       "      <td>1147549642</td>\n",
       "      <td>A</td>\n",
       "    </tr>\n",
       "    <tr>\n",
       "      <th>257</th>\n",
       "      <td>1478281570000</td>\n",
       "      <td>inicio</td>\n",
       "      <td>996911383</td>\n",
       "      <td>B</td>\n",
       "    </tr>\n",
       "    <tr>\n",
       "      <th>258</th>\n",
       "      <td>1478292142198</td>\n",
       "      <td>inicio</td>\n",
       "      <td>1630891939</td>\n",
       "      <td>A</td>\n",
       "    </tr>\n",
       "    <tr>\n",
       "      <th>259</th>\n",
       "      <td>1478349910011</td>\n",
       "      <td>inicio</td>\n",
       "      <td>279025711</td>\n",
       "      <td>B</td>\n",
       "    </tr>\n",
       "    <tr>\n",
       "      <th>260</th>\n",
       "      <td>1478281555756</td>\n",
       "      <td>inicio</td>\n",
       "      <td>2424138001</td>\n",
       "      <td>A</td>\n",
       "    </tr>\n",
       "    <tr>\n",
       "      <th>261</th>\n",
       "      <td>1478279141618</td>\n",
       "      <td>inicio</td>\n",
       "      <td>2302038605</td>\n",
       "      <td>B</td>\n",
       "    </tr>\n",
       "    <tr>\n",
       "      <th>262</th>\n",
       "      <td>1478281409779</td>\n",
       "      <td>inicio</td>\n",
       "      <td>2837744070</td>\n",
       "      <td>A</td>\n",
       "    </tr>\n",
       "    <tr>\n",
       "      <th>263</th>\n",
       "      <td>1479310055180</td>\n",
       "      <td>inicio</td>\n",
       "      <td>3042200683</td>\n",
       "      <td>B</td>\n",
       "    </tr>\n",
       "    <tr>\n",
       "      <th>264</th>\n",
       "      <td>1478288771387</td>\n",
       "      <td>fim</td>\n",
       "      <td>3474261213</td>\n",
       "      <td>B</td>\n",
       "    </tr>\n",
       "    <tr>\n",
       "      <th>265</th>\n",
       "      <td>1478306313497</td>\n",
       "      <td>inicio</td>\n",
       "      <td>2615860522</td>\n",
       "      <td>A</td>\n",
       "    </tr>\n",
       "    <tr>\n",
       "      <th>266</th>\n",
       "      <td>1478386307345</td>\n",
       "      <td>fim</td>\n",
       "      <td>931274072</td>\n",
       "      <td>A</td>\n",
       "    </tr>\n",
       "    <tr>\n",
       "      <th>267</th>\n",
       "      <td>1478286845059</td>\n",
       "      <td>inicio</td>\n",
       "      <td>109627039</td>\n",
       "      <td>A</td>\n",
       "    </tr>\n",
       "    <tr>\n",
       "      <th>268</th>\n",
       "      <td>1478400704117</td>\n",
       "      <td>inicio</td>\n",
       "      <td>3827959468</td>\n",
       "      <td>A</td>\n",
       "    </tr>\n",
       "    <tr>\n",
       "      <th>269</th>\n",
       "      <td>1478281162701</td>\n",
       "      <td>inicio</td>\n",
       "      <td>601089212</td>\n",
       "      <td>A</td>\n",
       "    </tr>\n",
       "    <tr>\n",
       "      <th>270</th>\n",
       "      <td>1478721442467</td>\n",
       "      <td>fim</td>\n",
       "      <td>3069344800</td>\n",
       "      <td>B</td>\n",
       "    </tr>\n",
       "    <tr>\n",
       "      <th>271</th>\n",
       "      <td>1478290759969</td>\n",
       "      <td>fim</td>\n",
       "      <td>718487099</td>\n",
       "      <td>B</td>\n",
       "    </tr>\n",
       "    <tr>\n",
       "      <th>272</th>\n",
       "      <td>1478289535986</td>\n",
       "      <td>inicio</td>\n",
       "      <td>1357614840</td>\n",
       "      <td>A</td>\n",
       "    </tr>\n",
       "    <tr>\n",
       "      <th>273</th>\n",
       "      <td>1478282193670</td>\n",
       "      <td>inicio</td>\n",
       "      <td>2929164856</td>\n",
       "      <td>A</td>\n",
       "    </tr>\n",
       "    <tr>\n",
       "      <th>274</th>\n",
       "      <td>1478288907738</td>\n",
       "      <td>inicio</td>\n",
       "      <td>4187013443</td>\n",
       "      <td>B</td>\n",
       "    </tr>\n",
       "    <tr>\n",
       "      <th>275</th>\n",
       "      <td>1478301847498</td>\n",
       "      <td>inicio</td>\n",
       "      <td>3974314706</td>\n",
       "      <td>A</td>\n",
       "    </tr>\n",
       "    <tr>\n",
       "      <th>276</th>\n",
       "      <td>1478301613344</td>\n",
       "      <td>inicio</td>\n",
       "      <td>2483393273</td>\n",
       "      <td>B</td>\n",
       "    </tr>\n",
       "    <tr>\n",
       "      <th>277</th>\n",
       "      <td>1478291280649</td>\n",
       "      <td>inicio</td>\n",
       "      <td>4046522560</td>\n",
       "      <td>A</td>\n",
       "    </tr>\n",
       "    <tr>\n",
       "      <th>278</th>\n",
       "      <td>1478300801489</td>\n",
       "      <td>inicio</td>\n",
       "      <td>2423916117</td>\n",
       "      <td>A</td>\n",
       "    </tr>\n",
       "    <tr>\n",
       "      <th>279</th>\n",
       "      <td>1478301952076</td>\n",
       "      <td>inicio</td>\n",
       "      <td>2483393273</td>\n",
       "      <td>B</td>\n",
       "    </tr>\n",
       "    <tr>\n",
       "      <th>280</th>\n",
       "      <td>1478292805762</td>\n",
       "      <td>inicio</td>\n",
       "      <td>2772220714</td>\n",
       "      <td>A</td>\n",
       "    </tr>\n",
       "    <tr>\n",
       "      <th>281</th>\n",
       "      <td>1478278989696</td>\n",
       "      <td>inicio</td>\n",
       "      <td>4246486520</td>\n",
       "      <td>B</td>\n",
       "    </tr>\n",
       "    <tr>\n",
       "      <th>282</th>\n",
       "      <td>1478287606331</td>\n",
       "      <td>fim</td>\n",
       "      <td>4210941636</td>\n",
       "      <td>B</td>\n",
       "    </tr>\n",
       "    <tr>\n",
       "      <th>283</th>\n",
       "      <td>1478284919333</td>\n",
       "      <td>inicio</td>\n",
       "      <td>4187013443</td>\n",
       "      <td>B</td>\n",
       "    </tr>\n",
       "    <tr>\n",
       "      <th>284</th>\n",
       "      <td>1478282973923</td>\n",
       "      <td>inicio</td>\n",
       "      <td>3313811584</td>\n",
       "      <td>A</td>\n",
       "    </tr>\n",
       "  </tbody>\n",
       "</table>\n",
       "<p>285 rows × 4 columns</p>\n",
       "</div>"
      ],
      "text/plain": [
       "             tempo    tipo     user_id versao\n",
       "0    1478301645142     fim  2483393273      B\n",
       "1    1478283515071     fim  1730929345      B\n",
       "2    1478386219376     fim   931274072      A\n",
       "3    1478281853728  inicio  3962126498      A\n",
       "4    1478285516839  inicio  1104517675      A\n",
       "5    1478287966534     fim   288121755      A\n",
       "6    1478300528716  inicio  3282556591      A\n",
       "7    1478295636601  inicio   959534589      A\n",
       "8    1478281985073  inicio   158843299      A\n",
       "9    1478386041645  inicio   931274072      A\n",
       "10   1479310421012  inicio  1337083730      A\n",
       "11   1478310571989     fim  1355150594      B\n",
       "12   1478315231797  inicio  1840703098      A\n",
       "13   1478282185374  inicio  2859745144      A\n",
       "14   1478284051498  inicio   700480404      A\n",
       "15   1478283427528  inicio  1730929345      B\n",
       "16   1478281462169     fim  1515373904      B\n",
       "17   1478279361445  inicio  4145648883      B\n",
       "18   1478281917125  inicio  4241974752      A\n",
       "19   1478430889945     fim  4187339032      B\n",
       "20   1478290573258  inicio   718487099      B\n",
       "21   1478390289392  inicio  4018346557      A\n",
       "22   1478360632870  inicio  3453487744      A\n",
       "23   1478386142267  inicio  2307386754      A\n",
       "24   1478291873296  inicio  1630891939      A\n",
       "25   1478336200408  inicio   612473897      A\n",
       "26   1478281524485  inicio  2424138001      A\n",
       "27   1478283461592  inicio  3220108444      B\n",
       "28   1478386262326     fim   931274072      A\n",
       "29   1479312086800     fim   883863683      A\n",
       "..             ...     ...         ...    ...\n",
       "255  1478301922092  inicio  2483393273      B\n",
       "256  1478290629960     fim  1147549642      A\n",
       "257  1478281570000  inicio   996911383      B\n",
       "258  1478292142198  inicio  1630891939      A\n",
       "259  1478349910011  inicio   279025711      B\n",
       "260  1478281555756  inicio  2424138001      A\n",
       "261  1478279141618  inicio  2302038605      B\n",
       "262  1478281409779  inicio  2837744070      A\n",
       "263  1479310055180  inicio  3042200683      B\n",
       "264  1478288771387     fim  3474261213      B\n",
       "265  1478306313497  inicio  2615860522      A\n",
       "266  1478386307345     fim   931274072      A\n",
       "267  1478286845059  inicio   109627039      A\n",
       "268  1478400704117  inicio  3827959468      A\n",
       "269  1478281162701  inicio   601089212      A\n",
       "270  1478721442467     fim  3069344800      B\n",
       "271  1478290759969     fim   718487099      B\n",
       "272  1478289535986  inicio  1357614840      A\n",
       "273  1478282193670  inicio  2929164856      A\n",
       "274  1478288907738  inicio  4187013443      B\n",
       "275  1478301847498  inicio  3974314706      A\n",
       "276  1478301613344  inicio  2483393273      B\n",
       "277  1478291280649  inicio  4046522560      A\n",
       "278  1478300801489  inicio  2423916117      A\n",
       "279  1478301952076  inicio  2483393273      B\n",
       "280  1478292805762  inicio  2772220714      A\n",
       "281  1478278989696  inicio  4246486520      B\n",
       "282  1478287606331     fim  4210941636      B\n",
       "283  1478284919333  inicio  4187013443      B\n",
       "284  1478282973923  inicio  3313811584      A\n",
       "\n",
       "[285 rows x 4 columns]"
      ]
     },
     "execution_count": 10,
     "metadata": {},
     "output_type": "execute_result"
    }
   ],
   "source": [
    "dataframe"
   ]
  },
  {
   "cell_type": "markdown",
   "metadata": {},
   "source": [
    "_____\n",
    "### Transformando o Tempo em Delta_T"
   ]
  },
  {
   "cell_type": "code",
   "execution_count": 11,
   "metadata": {
    "collapsed": true
   },
   "outputs": [],
   "source": [
    "agrupado = dataframe.groupby(by=[\"user_id\", \"versao\"])"
   ]
  },
  {
   "cell_type": "code",
   "execution_count": 12,
   "metadata": {
    "collapsed": true
   },
   "outputs": [],
   "source": [
    "users = set(dataframe.user_id)"
   ]
  },
  {
   "cell_type": "code",
   "execution_count": 13,
   "metadata": {
    "collapsed": true
   },
   "outputs": [],
   "source": [
    "users = list(users) "
   ]
  },
  {
   "cell_type": "code",
   "execution_count": 14,
   "metadata": {
    "collapsed": true
   },
   "outputs": [],
   "source": [
    "resultados = []\n",
    "\n",
    "for u in users:\n",
    "    for versao in [\"A\", \"B\"]:\n",
    "        if (u, versao) in agrupado.groups.keys():\n",
    "            grupo1 =  agrupado.get_group((u, versao))\n",
    "            grupo1 = grupo1.sort_values(by=\"tempo\")\n",
    "            \n",
    "            if len(grupo1[grupo1.tipo==\"fim\"])>= 1 and len(grupo1[grupo1.tipo==\"inicio\"]) >= 1:\n",
    "                delta_t = grupo1[grupo1.tipo==\"fim\"].iloc[-1].tempo - grupo1[grupo1.tipo==\"inicio\"].iloc[0].tempo\n",
    "                resultados.append({\"user_id\":u, \"delta_t\":delta_t, \"versao\":versao})"
   ]
  },
  {
   "cell_type": "code",
   "execution_count": 15,
   "metadata": {
    "collapsed": false
   },
   "outputs": [
    {
     "data": {
      "text/html": [
       "<div>\n",
       "<table border=\"1\" class=\"dataframe\">\n",
       "  <thead>\n",
       "    <tr style=\"text-align: right;\">\n",
       "      <th></th>\n",
       "      <th>tempo</th>\n",
       "      <th>tipo</th>\n",
       "      <th>user_id</th>\n",
       "      <th>versao</th>\n",
       "    </tr>\n",
       "  </thead>\n",
       "  <tbody>\n",
       "    <tr>\n",
       "      <th>207</th>\n",
       "      <td>1478295520620</td>\n",
       "      <td>inicio</td>\n",
       "      <td>959534589</td>\n",
       "      <td>A</td>\n",
       "    </tr>\n",
       "    <tr>\n",
       "      <th>97</th>\n",
       "      <td>1478295563659</td>\n",
       "      <td>inicio</td>\n",
       "      <td>959534589</td>\n",
       "      <td>A</td>\n",
       "    </tr>\n",
       "    <tr>\n",
       "      <th>194</th>\n",
       "      <td>1478295632051</td>\n",
       "      <td>inicio</td>\n",
       "      <td>959534589</td>\n",
       "      <td>A</td>\n",
       "    </tr>\n",
       "    <tr>\n",
       "      <th>7</th>\n",
       "      <td>1478295636601</td>\n",
       "      <td>inicio</td>\n",
       "      <td>959534589</td>\n",
       "      <td>A</td>\n",
       "    </tr>\n",
       "  </tbody>\n",
       "</table>\n",
       "</div>"
      ],
      "text/plain": [
       "             tempo    tipo    user_id versao\n",
       "207  1478295520620  inicio  959534589      A\n",
       "97   1478295563659  inicio  959534589      A\n",
       "194  1478295632051  inicio  959534589      A\n",
       "7    1478295636601  inicio  959534589      A"
      ]
     },
     "execution_count": 15,
     "metadata": {},
     "output_type": "execute_result"
    }
   ],
   "source": [
    "grupo1.sort_values(by=\"tempo\")"
   ]
  },
  {
   "cell_type": "code",
   "execution_count": 16,
   "metadata": {
    "collapsed": false
   },
   "outputs": [],
   "source": [
    "dataframe_resumo = pd.DataFrame.from_records(resultados)"
   ]
  },
  {
   "cell_type": "code",
   "execution_count": 17,
   "metadata": {
    "collapsed": false
   },
   "outputs": [],
   "source": [
    "dataframe_resumo.delta_t/=1000 # Convertendo milissegundos em segundos"
   ]
  },
  {
   "cell_type": "code",
   "execution_count": 18,
   "metadata": {
    "collapsed": true
   },
   "outputs": [],
   "source": [
    "dataframe_resumo = dataframe_resumo[dataframe_resumo.delta_t<600]"
   ]
  },
  {
   "cell_type": "code",
   "execution_count": 19,
   "metadata": {
    "collapsed": false,
    "scrolled": true
   },
   "outputs": [
    {
     "data": {
      "text/html": [
       "<div>\n",
       "<table border=\"1\" class=\"dataframe\">\n",
       "  <thead>\n",
       "    <tr style=\"text-align: right;\">\n",
       "      <th></th>\n",
       "      <th>delta_t</th>\n",
       "      <th>user_id</th>\n",
       "      <th>versao</th>\n",
       "    </tr>\n",
       "  </thead>\n",
       "  <tbody>\n",
       "    <tr>\n",
       "      <th>0</th>\n",
       "      <td>42.926</td>\n",
       "      <td>285365760</td>\n",
       "      <td>B</td>\n",
       "    </tr>\n",
       "    <tr>\n",
       "      <th>1</th>\n",
       "      <td>32.017</td>\n",
       "      <td>3069344800</td>\n",
       "      <td>B</td>\n",
       "    </tr>\n",
       "    <tr>\n",
       "      <th>2</th>\n",
       "      <td>66.508</td>\n",
       "      <td>3036598819</td>\n",
       "      <td>B</td>\n",
       "    </tr>\n",
       "    <tr>\n",
       "      <th>3</th>\n",
       "      <td>60.634</td>\n",
       "      <td>279025711</td>\n",
       "      <td>B</td>\n",
       "    </tr>\n",
       "    <tr>\n",
       "      <th>4</th>\n",
       "      <td>11.653</td>\n",
       "      <td>2929164856</td>\n",
       "      <td>A</td>\n",
       "    </tr>\n",
       "    <tr>\n",
       "      <th>5</th>\n",
       "      <td>82.305</td>\n",
       "      <td>2328779322</td>\n",
       "      <td>A</td>\n",
       "    </tr>\n",
       "    <tr>\n",
       "      <th>6</th>\n",
       "      <td>186.711</td>\n",
       "      <td>718487099</td>\n",
       "      <td>B</td>\n",
       "    </tr>\n",
       "    <tr>\n",
       "      <th>7</th>\n",
       "      <td>36.749</td>\n",
       "      <td>3185562697</td>\n",
       "      <td>A</td>\n",
       "    </tr>\n",
       "    <tr>\n",
       "      <th>8</th>\n",
       "      <td>147.871</td>\n",
       "      <td>2302038605</td>\n",
       "      <td>B</td>\n",
       "    </tr>\n",
       "    <tr>\n",
       "      <th>9</th>\n",
       "      <td>11.353</td>\n",
       "      <td>1272092754</td>\n",
       "      <td>A</td>\n",
       "    </tr>\n",
       "    <tr>\n",
       "      <th>10</th>\n",
       "      <td>101.888</td>\n",
       "      <td>3802819677</td>\n",
       "      <td>A</td>\n",
       "    </tr>\n",
       "    <tr>\n",
       "      <th>11</th>\n",
       "      <td>28.840</td>\n",
       "      <td>3042200683</td>\n",
       "      <td>B</td>\n",
       "    </tr>\n",
       "    <tr>\n",
       "      <th>12</th>\n",
       "      <td>230.198</td>\n",
       "      <td>158080108</td>\n",
       "      <td>A</td>\n",
       "    </tr>\n",
       "    <tr>\n",
       "      <th>13</th>\n",
       "      <td>75.771</td>\n",
       "      <td>777092727</td>\n",
       "      <td>A</td>\n",
       "    </tr>\n",
       "    <tr>\n",
       "      <th>14</th>\n",
       "      <td>8.686</td>\n",
       "      <td>883863683</td>\n",
       "      <td>A</td>\n",
       "    </tr>\n",
       "    <tr>\n",
       "      <th>15</th>\n",
       "      <td>18.572</td>\n",
       "      <td>1561760900</td>\n",
       "      <td>B</td>\n",
       "    </tr>\n",
       "    <tr>\n",
       "      <th>16</th>\n",
       "      <td>34.138</td>\n",
       "      <td>715892882</td>\n",
       "      <td>B</td>\n",
       "    </tr>\n",
       "    <tr>\n",
       "      <th>18</th>\n",
       "      <td>102.177</td>\n",
       "      <td>3220108444</td>\n",
       "      <td>B</td>\n",
       "    </tr>\n",
       "    <tr>\n",
       "      <th>19</th>\n",
       "      <td>124.354</td>\n",
       "      <td>109627039</td>\n",
       "      <td>A</td>\n",
       "    </tr>\n",
       "    <tr>\n",
       "      <th>20</th>\n",
       "      <td>23.678</td>\n",
       "      <td>3962126498</td>\n",
       "      <td>A</td>\n",
       "    </tr>\n",
       "    <tr>\n",
       "      <th>21</th>\n",
       "      <td>27.886</td>\n",
       "      <td>2494861987</td>\n",
       "      <td>B</td>\n",
       "    </tr>\n",
       "    <tr>\n",
       "      <th>22</th>\n",
       "      <td>399.916</td>\n",
       "      <td>3827959468</td>\n",
       "      <td>A</td>\n",
       "    </tr>\n",
       "    <tr>\n",
       "      <th>23</th>\n",
       "      <td>23.478</td>\n",
       "      <td>1471369903</td>\n",
       "      <td>B</td>\n",
       "    </tr>\n",
       "    <tr>\n",
       "      <th>24</th>\n",
       "      <td>87.543</td>\n",
       "      <td>1730929345</td>\n",
       "      <td>B</td>\n",
       "    </tr>\n",
       "    <tr>\n",
       "      <th>25</th>\n",
       "      <td>255.978</td>\n",
       "      <td>4210941636</td>\n",
       "      <td>B</td>\n",
       "    </tr>\n",
       "    <tr>\n",
       "      <th>26</th>\n",
       "      <td>97.064</td>\n",
       "      <td>3299522247</td>\n",
       "      <td>A</td>\n",
       "    </tr>\n",
       "    <tr>\n",
       "      <th>27</th>\n",
       "      <td>124.756</td>\n",
       "      <td>1366193367</td>\n",
       "      <td>B</td>\n",
       "    </tr>\n",
       "    <tr>\n",
       "      <th>28</th>\n",
       "      <td>68.793</td>\n",
       "      <td>2480978140</td>\n",
       "      <td>B</td>\n",
       "    </tr>\n",
       "    <tr>\n",
       "      <th>29</th>\n",
       "      <td>57.133</td>\n",
       "      <td>3474261213</td>\n",
       "      <td>B</td>\n",
       "    </tr>\n",
       "    <tr>\n",
       "      <th>30</th>\n",
       "      <td>70.418</td>\n",
       "      <td>3839108837</td>\n",
       "      <td>B</td>\n",
       "    </tr>\n",
       "    <tr>\n",
       "      <th>31</th>\n",
       "      <td>24.039</td>\n",
       "      <td>347603691</td>\n",
       "      <td>A</td>\n",
       "    </tr>\n",
       "    <tr>\n",
       "      <th>32</th>\n",
       "      <td>35.145</td>\n",
       "      <td>4145648883</td>\n",
       "      <td>B</td>\n",
       "    </tr>\n",
       "    <tr>\n",
       "      <th>34</th>\n",
       "      <td>31.798</td>\n",
       "      <td>2483393273</td>\n",
       "      <td>B</td>\n",
       "    </tr>\n",
       "    <tr>\n",
       "      <th>35</th>\n",
       "      <td>89.327</td>\n",
       "      <td>1355150594</td>\n",
       "      <td>B</td>\n",
       "    </tr>\n",
       "    <tr>\n",
       "      <th>36</th>\n",
       "      <td>36.501</td>\n",
       "      <td>996911383</td>\n",
       "      <td>B</td>\n",
       "    </tr>\n",
       "    <tr>\n",
       "      <th>37</th>\n",
       "      <td>24.801</td>\n",
       "      <td>4187339032</td>\n",
       "      <td>B</td>\n",
       "    </tr>\n",
       "    <tr>\n",
       "      <th>39</th>\n",
       "      <td>121.249</td>\n",
       "      <td>212355897</td>\n",
       "      <td>B</td>\n",
       "    </tr>\n",
       "    <tr>\n",
       "      <th>40</th>\n",
       "      <td>12.465</td>\n",
       "      <td>2055298362</td>\n",
       "      <td>A</td>\n",
       "    </tr>\n",
       "    <tr>\n",
       "      <th>42</th>\n",
       "      <td>154.320</td>\n",
       "      <td>1515373904</td>\n",
       "      <td>B</td>\n",
       "    </tr>\n",
       "    <tr>\n",
       "      <th>43</th>\n",
       "      <td>265.700</td>\n",
       "      <td>931274072</td>\n",
       "      <td>A</td>\n",
       "    </tr>\n",
       "    <tr>\n",
       "      <th>44</th>\n",
       "      <td>119.279</td>\n",
       "      <td>2472472412</td>\n",
       "      <td>B</td>\n",
       "    </tr>\n",
       "    <tr>\n",
       "      <th>45</th>\n",
       "      <td>35.446</td>\n",
       "      <td>1484385636</td>\n",
       "      <td>A</td>\n",
       "    </tr>\n",
       "    <tr>\n",
       "      <th>46</th>\n",
       "      <td>62.544</td>\n",
       "      <td>1609199998</td>\n",
       "      <td>B</td>\n",
       "    </tr>\n",
       "    <tr>\n",
       "      <th>47</th>\n",
       "      <td>130.258</td>\n",
       "      <td>288121755</td>\n",
       "      <td>A</td>\n",
       "    </tr>\n",
       "    <tr>\n",
       "      <th>48</th>\n",
       "      <td>36.570</td>\n",
       "      <td>827062684</td>\n",
       "      <td>B</td>\n",
       "    </tr>\n",
       "    <tr>\n",
       "      <th>49</th>\n",
       "      <td>7.243</td>\n",
       "      <td>158843299</td>\n",
       "      <td>A</td>\n",
       "    </tr>\n",
       "    <tr>\n",
       "      <th>50</th>\n",
       "      <td>44.513</td>\n",
       "      <td>1078269374</td>\n",
       "      <td>A</td>\n",
       "    </tr>\n",
       "    <tr>\n",
       "      <th>51</th>\n",
       "      <td>109.419</td>\n",
       "      <td>2552197058</td>\n",
       "      <td>B</td>\n",
       "    </tr>\n",
       "    <tr>\n",
       "      <th>52</th>\n",
       "      <td>64.861</td>\n",
       "      <td>1147549642</td>\n",
       "      <td>A</td>\n",
       "    </tr>\n",
       "    <tr>\n",
       "      <th>53</th>\n",
       "      <td>155.309</td>\n",
       "      <td>2142074333</td>\n",
       "      <td>A</td>\n",
       "    </tr>\n",
       "    <tr>\n",
       "      <th>54</th>\n",
       "      <td>137.193</td>\n",
       "      <td>4241974752</td>\n",
       "      <td>A</td>\n",
       "    </tr>\n",
       "    <tr>\n",
       "      <th>55</th>\n",
       "      <td>19.597</td>\n",
       "      <td>3143404007</td>\n",
       "      <td>B</td>\n",
       "    </tr>\n",
       "    <tr>\n",
       "      <th>56</th>\n",
       "      <td>35.199</td>\n",
       "      <td>1881892331</td>\n",
       "      <td>A</td>\n",
       "    </tr>\n",
       "    <tr>\n",
       "      <th>57</th>\n",
       "      <td>374.581</td>\n",
       "      <td>4246486520</td>\n",
       "      <td>B</td>\n",
       "    </tr>\n",
       "    <tr>\n",
       "      <th>58</th>\n",
       "      <td>55.267</td>\n",
       "      <td>971035642</td>\n",
       "      <td>A</td>\n",
       "    </tr>\n",
       "  </tbody>\n",
       "</table>\n",
       "</div>"
      ],
      "text/plain": [
       "    delta_t     user_id versao\n",
       "0    42.926   285365760      B\n",
       "1    32.017  3069344800      B\n",
       "2    66.508  3036598819      B\n",
       "3    60.634   279025711      B\n",
       "4    11.653  2929164856      A\n",
       "5    82.305  2328779322      A\n",
       "6   186.711   718487099      B\n",
       "7    36.749  3185562697      A\n",
       "8   147.871  2302038605      B\n",
       "9    11.353  1272092754      A\n",
       "10  101.888  3802819677      A\n",
       "11   28.840  3042200683      B\n",
       "12  230.198   158080108      A\n",
       "13   75.771   777092727      A\n",
       "14    8.686   883863683      A\n",
       "15   18.572  1561760900      B\n",
       "16   34.138   715892882      B\n",
       "18  102.177  3220108444      B\n",
       "19  124.354   109627039      A\n",
       "20   23.678  3962126498      A\n",
       "21   27.886  2494861987      B\n",
       "22  399.916  3827959468      A\n",
       "23   23.478  1471369903      B\n",
       "24   87.543  1730929345      B\n",
       "25  255.978  4210941636      B\n",
       "26   97.064  3299522247      A\n",
       "27  124.756  1366193367      B\n",
       "28   68.793  2480978140      B\n",
       "29   57.133  3474261213      B\n",
       "30   70.418  3839108837      B\n",
       "31   24.039   347603691      A\n",
       "32   35.145  4145648883      B\n",
       "34   31.798  2483393273      B\n",
       "35   89.327  1355150594      B\n",
       "36   36.501   996911383      B\n",
       "37   24.801  4187339032      B\n",
       "39  121.249   212355897      B\n",
       "40   12.465  2055298362      A\n",
       "42  154.320  1515373904      B\n",
       "43  265.700   931274072      A\n",
       "44  119.279  2472472412      B\n",
       "45   35.446  1484385636      A\n",
       "46   62.544  1609199998      B\n",
       "47  130.258   288121755      A\n",
       "48   36.570   827062684      B\n",
       "49    7.243   158843299      A\n",
       "50   44.513  1078269374      A\n",
       "51  109.419  2552197058      B\n",
       "52   64.861  1147549642      A\n",
       "53  155.309  2142074333      A\n",
       "54  137.193  4241974752      A\n",
       "55   19.597  3143404007      B\n",
       "56   35.199  1881892331      A\n",
       "57  374.581  4246486520      B\n",
       "58   55.267   971035642      A"
      ]
     },
     "execution_count": 19,
     "metadata": {},
     "output_type": "execute_result"
    }
   ],
   "source": [
    "dataframe_resumo"
   ]
  },
  {
   "cell_type": "markdown",
   "metadata": {},
   "source": [
    "_____\n",
    "### Comparando Histogramas A e B"
   ]
  },
  {
   "cell_type": "code",
   "execution_count": 20,
   "metadata": {
    "collapsed": false
   },
   "outputs": [
    {
     "data": {
      "text/plain": [
       "(array([ 13.,   8.,   5.,   2.,   1.,   0.,   1.,   0.,   0.,   1.]),\n",
       " array([  18.572 ,   54.1729,   89.7738,  125.3747,  160.9756,  196.5765,\n",
       "         232.1774,  267.7783,  303.3792,  338.9801,  374.581 ]),\n",
       " <a list of 10 Patch objects>)"
      ]
     },
     "execution_count": 20,
     "metadata": {},
     "output_type": "execute_result"
    },
    {
     "data": {
      "image/png": "[encoded data removed]",
      "text/plain": [
       "<matplotlib.figure.Figure at 0x1c9791c5ef0>"
      ]
     },
     "metadata": {},
     "output_type": "display_data"
    }
   ],
   "source": [
    "tempos_A = list(dataframe_resumo[dataframe_resumo.versao==\"A\"].delta_t)\n",
    "tempos_B = list(dataframe_resumo[dataframe_resumo.versao==\"B\"].delta_t)\n",
    "plt.hist(tempos_A, bins=10)\n",
    "plt.hist(tempos_B, bins=10, alpha=0.5)"
   ]
  },
  {
   "cell_type": "markdown",
   "metadata": {},
   "source": [
    "______\n",
    "## Teste de Hipóteses\n",
    "#### Primeira Etapa"
   ]
  },
  {
   "cell_type": "markdown",
   "metadata": {},
   "source": [
    "No contexto do problema criamos duas hipóteses:\n",
    "\n",
    "$H_0: E(A) - E(B) = 0$, significando que a alteração da localização do projeto \"Estação Meteorológica\" não alterou o tempo médio de busca.\n",
    "\n",
    "$H_1: E(A) - E(B)$ $\\neq$ $0$, significando que a alteração da localização do projeto \"Estação Meteorológica\" alterou o tempo médio de busca, ou seja, alterou o desempenho do site."
   ]
  },
  {
   "cell_type": "markdown",
   "metadata": {},
   "source": [
    "_________\n",
    "#### Segunda e Terceira Etapas"
   ]
  },
  {
   "cell_type": "markdown",
   "metadata": {},
   "source": [
    "   Calculo da média:\n",
    "\n",
    "* $E = E(X_A - X_B) = E(X_A) - E(X_B)$, que sob a hipótese nula vale zero.\n",
    "\n",
    "Calculo da variância: já que o desvio padrão populacional das duas amostras é desconhecido, deve-se estimá-los.\n"
   ]
  },
  {
   "cell_type": "code",
   "execution_count": 21,
   "metadata": {
    "collapsed": false
   },
   "outputs": [
    {
     "name": "stdout",
     "output_type": "stream",
     "text": [
      "Média A = 90.4628333333\n"
     ]
    }
   ],
   "source": [
    "media_A = 0\n",
    "for valor_delta_t in dataframe_resumo[dataframe_resumo.versao=='A'].delta_t:\n",
    "    media_A += valor_delta_t\n",
    "media_A/=len(dataframe_resumo[dataframe_resumo.versao=='A'].delta_t)\n",
    "print('Média A =',media_A)"
   ]
  },
  {
   "cell_type": "code",
   "execution_count": 22,
   "metadata": {
    "collapsed": false
   },
   "outputs": [
    {
     "name": "stdout",
     "output_type": "stream",
     "text": [
      "Média B = 85.5325806452\n"
     ]
    }
   ],
   "source": [
    "media_B = 0\n",
    "for valor_delta_t in dataframe_resumo[dataframe_resumo.versao=='B'].delta_t:\n",
    "    media_B += valor_delta_t\n",
    "media_B/=len(dataframe_resumo[dataframe_resumo.versao=='B'].delta_t)\n",
    "print('Média B =',media_B)"
   ]
  },
  {
   "cell_type": "code",
   "execution_count": 23,
   "metadata": {
    "collapsed": false
   },
   "outputs": [
    {
     "name": "stdout",
     "output_type": "stream",
     "text": [
      "Variância A = 8732.61705056\n"
     ]
    }
   ],
   "source": [
    "variancia_A = 0\n",
    "for var_A in dataframe_resumo[dataframe_resumo.versao=='A'].delta_t:\n",
    "    variancia_A += (var_A - media_A)**2\n",
    "variancia_A/=len(dataframe_resumo[dataframe_resumo.versao=='A'].delta_t)\n",
    "print('Variância A =',variancia_A)"
   ]
  },
  {
   "cell_type": "code",
   "execution_count": 24,
   "metadata": {
    "collapsed": false
   },
   "outputs": [
    {
     "name": "stdout",
     "output_type": "stream",
     "text": [
      "Variância B = 5792.12625089\n"
     ]
    }
   ],
   "source": [
    "variancia_B = 0\n",
    "for var_B in dataframe_resumo[dataframe_resumo.versao=='B'].delta_t:\n",
    "    variancia_B += (var_B - media_B)**2\n",
    "variancia_B/=len(dataframe_resumo[dataframe_resumo.versao=='B'].delta_t)\n",
    "print('Variância B =',variancia_B)"
   ]
  },
  {
   "cell_type": "markdown",
   "metadata": {},
   "source": [
    "Como as variâncias são valores estimados, a padronização de $X_A - X_B$ é feita pela distribuição-t.\n",
    "\n",
    "\n",
    "Como a mudança na localização do projeto não implica dificuldades técnicas, assume-se que as duas variâncias são iguais.\n",
    "\n",
    "Para calcular a variância da distribuição-t, utiliza-se a seguinte fórmula (encontrada no livro Magalhães e Lima, Teste de Hipótese com distribuições independentes com mesma variância desconhecida):\n",
    "    \n",
    "* $ S^2 = \\frac{(nA - 1)S_A^2 + (nB - 1)S_B^2}{nA + nB - 2}$\n",
    "\n",
    "\n",
    "$S$: desvio padrão estimado a ser utilizado no teste de hipótese\n",
    "\n",
    "$nA$ e $nB$: tamanho das amostras A e B\n",
    "\n",
    "$S_A$ e $S_B$: $DP$ estimado de A e B"
   ]
  },
  {
   "cell_type": "code",
   "execution_count": 25,
   "metadata": {
    "collapsed": false
   },
   "outputs": [
    {
     "name": "stdout",
     "output_type": "stream",
     "text": [
      "Variância = 7068.18829603\n"
     ]
    }
   ],
   "source": [
    "nA = len(dataframe_resumo[dataframe_resumo.versao=='A'].delta_t)\n",
    "nB = len(dataframe_resumo[dataframe_resumo.versao=='B'].delta_t)\n",
    "\n",
    "S2 = ((nA - 1)*variancia_A + (nB - 1)*variancia_B)/(nA + nB - 2)\n",
    "\n",
    "print('Variância =',S2)"
   ]
  },
  {
   "cell_type": "markdown",
   "metadata": {},
   "source": [
    "Com isso, tem-se a distribuição-t definida por:\n",
    "\n",
    "* $T = \\frac{(X_Aobs - X_Bobs) - (E(A) - E(B))}{S \\sqrt{\\frac{1}{nA}+\\frac{1}{nB}}}$, com grau de liberdade igual a $nA + nB - 2$."
   ]
  },
  {
   "cell_type": "markdown",
   "metadata": {},
   "source": [
    "Calculando o grau de liberdade:"
   ]
  },
  {
   "cell_type": "code",
   "execution_count": 26,
   "metadata": {
    "collapsed": false
   },
   "outputs": [
    {
     "name": "stdout",
     "output_type": "stream",
     "text": [
      "Grau de Liberdade = 53\n"
     ]
    }
   ],
   "source": [
    "grau_liberdade = nA + nB - 2\n",
    "print('Grau de Liberdade =', grau_liberdade)"
   ]
  },
  {
   "cell_type": "markdown",
   "metadata": {},
   "source": [
    "______\n",
    "#### Quarta Etapa"
   ]
  },
  {
   "cell_type": "markdown",
   "metadata": {},
   "source": [
    "Para definir a região crítica, definimos um $\\alpha = 5$% e arredondamos o grau de liberdade para 50, já que não encontramos os valores correspondentes ao grau de liberdade 53 em nenhuma tabela.\n",
    "\n",
    "\n",
    "Com isso, o t-crítico = 2,009"
   ]
  },
  {
   "cell_type": "markdown",
   "metadata": {},
   "source": [
    "Para calcular o t_obs, utilizamos a fórmula encontrada a cima."
   ]
  },
  {
   "cell_type": "code",
   "execution_count": 23,
   "metadata": {
    "collapsed": false
   },
   "outputs": [
    {
     "name": "stdout",
     "output_type": "stream",
     "text": [
      "T observado = 0.215685150747\n"
     ]
    }
   ],
   "source": [
    "T_obs = ((media_A - media_B) - 0)/(math.sqrt(S2)*math.sqrt((1/nA)+(1/nB)))\n",
    "\n",
    "print('T observado =',T_obs)"
   ]
  },
  {
   "cell_type": "code",
   "execution_count": 24,
   "metadata": {
    "collapsed": false
   },
   "outputs": [
    {
     "name": "stdout",
     "output_type": "stream",
     "text": [
      "H0 não pode ser rejeitado, com uma confiabilidade de 95%\n"
     ]
    }
   ],
   "source": [
    "t_critico = 2.009\n",
    "if -t_critico < T_obs < t_critico:\n",
    "    print('H0 não pode ser rejeitado, com uma confiabilidade de 95%')\n",
    "else:\n",
    "    print('H0 deve ser rejeitado com uma confiabilidade de 95%')"
   ]
  },
  {
   "cell_type": "markdown",
   "metadata": {},
   "source": [
    "______\n",
    "##### Quinta Etapa"
   ]
  },
  {
   "cell_type": "markdown",
   "metadata": {},
   "source": [
    "Calcula-se o valor-p para saber quais valores de $\\alpha$ nos levam a rejeição ou não de $H_0$."
   ]
  },
  {
   "cell_type": "markdown",
   "metadata": {},
   "source": [
    "Pela tabela, arredondamos o valor de $Tobs$ para 0.255, assim achamos:\n",
    "\n",
    "$Valor-p = 20$%\n",
    "\n",
    "Assim, assim apenas para valores alpha superiores a 20% $H_0$ será rejeitada. Mas como a literatura estabelece $\\alpha$ com limite máximo de 10%, nossa hipótese nula nunca será rejeitada."
   ]
  },
  {
   "cell_type": "markdown",
   "metadata": {},
   "source": [
    "______\n",
    "### Conclusão"
   ]
  },
  {
   "cell_type": "markdown",
   "metadata": {},
   "source": [
    "Não há indícios para se rejeitar $H_0$, ou seja, a alteração da localização do projeto \"Estação Meteorológica\" não altera o desempenho do site."
   ]
  },
  {
   "cell_type": "code",
   "execution_count": null,
   "metadata": {
    "collapsed": true
   },
   "outputs": [],
   "source": []
  }
 ],
 "metadata": {
  "anaconda-cloud": {},
  "kernelspec": {
   "display_name": "Python 3",
   "language": "python",
   "name": "python3"
  },
  "language_info": {
   "codemirror_mode": {
    "name": "ipython",
    "version": 3
   },
   "file_extension": ".py",
   "mimetype": "text/x-python",
   "name": "python",
   "nbconvert_exporter": "python",
   "pygments_lexer": "ipython3",
   "version": "3.5.2"
  }
 },
 "nbformat": 4,
 "nbformat_minor": 0
}
